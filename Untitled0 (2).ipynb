{
  "nbformat": 4,
  "nbformat_minor": 0,
  "metadata": {
    "colab": {
      "name": "Untitled0.ipynb",
      "provenance": [],
      "collapsed_sections": []
    },
    "kernelspec": {
      "name": "python3",
      "display_name": "Python 3"
    },
    "language_info": {
      "name": "python"
    },
    "accelerator": "GPU"
  },
  "cells": [
    {
      "cell_type": "code",
      "metadata": {
        "colab": {
          "base_uri": "https://localhost:8080/"
        },
        "id": "_W_7mit4hYGp",
        "outputId": "b99f3655-9e78-4253-f04f-aeef671b6b3f"
      },
      "source": [
        "%cd /content/drive/MyDrive/Interview/EagleView/YOLO_v5x"
      ],
      "execution_count": 1,
      "outputs": [
        {
          "output_type": "stream",
          "name": "stdout",
          "text": [
            "/content/drive/MyDrive/Interview/EagleView/YOLO_v5x\n"
          ]
        }
      ]
    },
    {
      "cell_type": "code",
      "metadata": {
        "id": "dUNxxbFeHZw6"
      },
      "source": [
        "from google.colab import drive\n",
        "drive.mount('/content/drive')"
      ],
      "execution_count": null,
      "outputs": []
    },
    {
      "cell_type": "code",
      "metadata": {
        "colab": {
          "base_uri": "https://localhost:8080/"
        },
        "id": "jNaBV8aUg4fK",
        "outputId": "60622969-1a75-4023-ca8a-2fe8442457d1"
      },
      "source": [
        "!git clone https://github.com/ultralytics/yolov5.git"
      ],
      "execution_count": null,
      "outputs": [
        {
          "output_type": "stream",
          "name": "stdout",
          "text": [
            "Cloning into 'yolov5'...\n",
            "remote: Enumerating objects: 10142, done.\u001b[K\n",
            "remote: Total 10142 (delta 0), reused 0 (delta 0), pack-reused 10142\u001b[K\n",
            "Receiving objects: 100% (10142/10142), 10.39 MiB | 6.58 MiB/s, done.\n",
            "Resolving deltas: 100% (7039/7039), done.\n"
          ]
        }
      ]
    },
    {
      "cell_type": "code",
      "metadata": {
        "colab": {
          "base_uri": "https://localhost:8080/"
        },
        "id": "vsoZLk0VhiUQ",
        "outputId": "656b6c5b-2f86-4250-8839-68ec262cad5d"
      },
      "source": [
        "!ls"
      ],
      "execution_count": 2,
      "outputs": [
        {
          "output_type": "stream",
          "name": "stdout",
          "text": [
            "dataset  dataset.zip  Untitled0.ipynb  yolov5\n"
          ]
        }
      ]
    },
    {
      "cell_type": "code",
      "metadata": {
        "colab": {
          "base_uri": "https://localhost:8080/"
        },
        "id": "d-ebiW9uhltu",
        "outputId": "c8e4c816-2a7a-46dc-d808-fc745646dc63"
      },
      "source": [
        "%cd ./yolov5/"
      ],
      "execution_count": 3,
      "outputs": [
        {
          "output_type": "stream",
          "name": "stdout",
          "text": [
            "/content/drive/MyDrive/Interview/EagleView/YOLO_v5x/yolov5\n"
          ]
        }
      ]
    },
    {
      "cell_type": "code",
      "metadata": {
        "colab": {
          "base_uri": "https://localhost:8080/"
        },
        "id": "l5lJjAyVh_0_",
        "outputId": "dbd625e8-1abb-4034-945e-5d257dccacaa"
      },
      "source": [
        "!pip install -r requirements.txt"
      ],
      "execution_count": 4,
      "outputs": [
        {
          "output_type": "stream",
          "name": "stdout",
          "text": [
            "Requirement already satisfied: matplotlib>=3.2.2 in /usr/local/lib/python3.7/dist-packages (from -r requirements.txt (line 4)) (3.2.2)\n",
            "Requirement already satisfied: numpy>=1.18.5 in /usr/local/lib/python3.7/dist-packages (from -r requirements.txt (line 5)) (1.19.5)\n",
            "Requirement already satisfied: opencv-python>=4.1.2 in /usr/local/lib/python3.7/dist-packages (from -r requirements.txt (line 6)) (4.1.2.30)\n",
            "Requirement already satisfied: Pillow>=7.1.2 in /usr/local/lib/python3.7/dist-packages (from -r requirements.txt (line 7)) (7.1.2)\n",
            "Collecting PyYAML>=5.3.1\n",
            "  Downloading PyYAML-6.0-cp37-cp37m-manylinux_2_5_x86_64.manylinux1_x86_64.manylinux_2_12_x86_64.manylinux2010_x86_64.whl (596 kB)\n",
            "\u001b[K     |████████████████████████████████| 596 kB 4.0 MB/s \n",
            "\u001b[?25hRequirement already satisfied: requests>=2.23.0 in /usr/local/lib/python3.7/dist-packages (from -r requirements.txt (line 9)) (2.23.0)\n",
            "Requirement already satisfied: scipy>=1.4.1 in /usr/local/lib/python3.7/dist-packages (from -r requirements.txt (line 10)) (1.4.1)\n",
            "Requirement already satisfied: torch>=1.7.0 in /usr/local/lib/python3.7/dist-packages (from -r requirements.txt (line 11)) (1.10.0+cu111)\n",
            "Requirement already satisfied: torchvision>=0.8.1 in /usr/local/lib/python3.7/dist-packages (from -r requirements.txt (line 12)) (0.11.1+cu111)\n",
            "Requirement already satisfied: tqdm>=4.41.0 in /usr/local/lib/python3.7/dist-packages (from -r requirements.txt (line 13)) (4.62.3)\n",
            "Requirement already satisfied: tensorboard>=2.4.1 in /usr/local/lib/python3.7/dist-packages (from -r requirements.txt (line 16)) (2.7.0)\n",
            "Requirement already satisfied: pandas>=1.1.4 in /usr/local/lib/python3.7/dist-packages (from -r requirements.txt (line 20)) (1.1.5)\n",
            "Requirement already satisfied: seaborn>=0.11.0 in /usr/local/lib/python3.7/dist-packages (from -r requirements.txt (line 21)) (0.11.2)\n",
            "Collecting thop\n",
            "  Downloading thop-0.0.31.post2005241907-py3-none-any.whl (8.7 kB)\n",
            "Requirement already satisfied: cycler>=0.10 in /usr/local/lib/python3.7/dist-packages (from matplotlib>=3.2.2->-r requirements.txt (line 4)) (0.11.0)\n",
            "Requirement already satisfied: pyparsing!=2.0.4,!=2.1.2,!=2.1.6,>=2.0.1 in /usr/local/lib/python3.7/dist-packages (from matplotlib>=3.2.2->-r requirements.txt (line 4)) (3.0.6)\n",
            "Requirement already satisfied: kiwisolver>=1.0.1 in /usr/local/lib/python3.7/dist-packages (from matplotlib>=3.2.2->-r requirements.txt (line 4)) (1.3.2)\n",
            "Requirement already satisfied: python-dateutil>=2.1 in /usr/local/lib/python3.7/dist-packages (from matplotlib>=3.2.2->-r requirements.txt (line 4)) (2.8.2)\n",
            "Requirement already satisfied: urllib3!=1.25.0,!=1.25.1,<1.26,>=1.21.1 in /usr/local/lib/python3.7/dist-packages (from requests>=2.23.0->-r requirements.txt (line 9)) (1.24.3)\n",
            "Requirement already satisfied: certifi>=2017.4.17 in /usr/local/lib/python3.7/dist-packages (from requests>=2.23.0->-r requirements.txt (line 9)) (2021.10.8)\n",
            "Requirement already satisfied: chardet<4,>=3.0.2 in /usr/local/lib/python3.7/dist-packages (from requests>=2.23.0->-r requirements.txt (line 9)) (3.0.4)\n",
            "Requirement already satisfied: idna<3,>=2.5 in /usr/local/lib/python3.7/dist-packages (from requests>=2.23.0->-r requirements.txt (line 9)) (2.10)\n",
            "Requirement already satisfied: typing-extensions in /usr/local/lib/python3.7/dist-packages (from torch>=1.7.0->-r requirements.txt (line 11)) (3.10.0.2)\n",
            "Requirement already satisfied: tensorboard-data-server<0.7.0,>=0.6.0 in /usr/local/lib/python3.7/dist-packages (from tensorboard>=2.4.1->-r requirements.txt (line 16)) (0.6.1)\n",
            "Requirement already satisfied: tensorboard-plugin-wit>=1.6.0 in /usr/local/lib/python3.7/dist-packages (from tensorboard>=2.4.1->-r requirements.txt (line 16)) (1.8.0)\n",
            "Requirement already satisfied: wheel>=0.26 in /usr/local/lib/python3.7/dist-packages (from tensorboard>=2.4.1->-r requirements.txt (line 16)) (0.37.0)\n",
            "Requirement already satisfied: grpcio>=1.24.3 in /usr/local/lib/python3.7/dist-packages (from tensorboard>=2.4.1->-r requirements.txt (line 16)) (1.42.0)\n",
            "Requirement already satisfied: protobuf>=3.6.0 in /usr/local/lib/python3.7/dist-packages (from tensorboard>=2.4.1->-r requirements.txt (line 16)) (3.17.3)\n",
            "Requirement already satisfied: markdown>=2.6.8 in /usr/local/lib/python3.7/dist-packages (from tensorboard>=2.4.1->-r requirements.txt (line 16)) (3.3.6)\n",
            "Requirement already satisfied: google-auth<3,>=1.6.3 in /usr/local/lib/python3.7/dist-packages (from tensorboard>=2.4.1->-r requirements.txt (line 16)) (1.35.0)\n",
            "Requirement already satisfied: absl-py>=0.4 in /usr/local/lib/python3.7/dist-packages (from tensorboard>=2.4.1->-r requirements.txt (line 16)) (0.12.0)\n",
            "Requirement already satisfied: setuptools>=41.0.0 in /usr/local/lib/python3.7/dist-packages (from tensorboard>=2.4.1->-r requirements.txt (line 16)) (57.4.0)\n",
            "Requirement already satisfied: werkzeug>=0.11.15 in /usr/local/lib/python3.7/dist-packages (from tensorboard>=2.4.1->-r requirements.txt (line 16)) (1.0.1)\n",
            "Requirement already satisfied: google-auth-oauthlib<0.5,>=0.4.1 in /usr/local/lib/python3.7/dist-packages (from tensorboard>=2.4.1->-r requirements.txt (line 16)) (0.4.6)\n",
            "Requirement already satisfied: pytz>=2017.2 in /usr/local/lib/python3.7/dist-packages (from pandas>=1.1.4->-r requirements.txt (line 20)) (2018.9)\n",
            "Requirement already satisfied: six in /usr/local/lib/python3.7/dist-packages (from absl-py>=0.4->tensorboard>=2.4.1->-r requirements.txt (line 16)) (1.15.0)\n",
            "Requirement already satisfied: cachetools<5.0,>=2.0.0 in /usr/local/lib/python3.7/dist-packages (from google-auth<3,>=1.6.3->tensorboard>=2.4.1->-r requirements.txt (line 16)) (4.2.4)\n",
            "Requirement already satisfied: rsa<5,>=3.1.4 in /usr/local/lib/python3.7/dist-packages (from google-auth<3,>=1.6.3->tensorboard>=2.4.1->-r requirements.txt (line 16)) (4.8)\n",
            "Requirement already satisfied: pyasn1-modules>=0.2.1 in /usr/local/lib/python3.7/dist-packages (from google-auth<3,>=1.6.3->tensorboard>=2.4.1->-r requirements.txt (line 16)) (0.2.8)\n",
            "Requirement already satisfied: requests-oauthlib>=0.7.0 in /usr/local/lib/python3.7/dist-packages (from google-auth-oauthlib<0.5,>=0.4.1->tensorboard>=2.4.1->-r requirements.txt (line 16)) (1.3.0)\n",
            "Requirement already satisfied: importlib-metadata>=4.4 in /usr/local/lib/python3.7/dist-packages (from markdown>=2.6.8->tensorboard>=2.4.1->-r requirements.txt (line 16)) (4.8.2)\n",
            "Requirement already satisfied: zipp>=0.5 in /usr/local/lib/python3.7/dist-packages (from importlib-metadata>=4.4->markdown>=2.6.8->tensorboard>=2.4.1->-r requirements.txt (line 16)) (3.6.0)\n",
            "Requirement already satisfied: pyasn1<0.5.0,>=0.4.6 in /usr/local/lib/python3.7/dist-packages (from pyasn1-modules>=0.2.1->google-auth<3,>=1.6.3->tensorboard>=2.4.1->-r requirements.txt (line 16)) (0.4.8)\n",
            "Requirement already satisfied: oauthlib>=3.0.0 in /usr/local/lib/python3.7/dist-packages (from requests-oauthlib>=0.7.0->google-auth-oauthlib<0.5,>=0.4.1->tensorboard>=2.4.1->-r requirements.txt (line 16)) (3.1.1)\n",
            "Installing collected packages: thop, PyYAML\n",
            "  Attempting uninstall: PyYAML\n",
            "    Found existing installation: PyYAML 3.13\n",
            "    Uninstalling PyYAML-3.13:\n",
            "      Successfully uninstalled PyYAML-3.13\n",
            "Successfully installed PyYAML-6.0 thop-0.0.31.post2005241907\n"
          ]
        }
      ]
    },
    {
      "cell_type": "code",
      "metadata": {
        "colab": {
          "base_uri": "https://localhost:8080/"
        },
        "id": "ctIRHCtiiYDy",
        "outputId": "9e73db81-6275-4648-e94a-bcc7d906fa9e"
      },
      "source": [
        "!ls"
      ],
      "execution_count": 5,
      "outputs": [
        {
          "output_type": "stream",
          "name": "stdout",
          "text": [
            "CONTRIBUTING.md  Dockerfile  models\t       train.py        yolov5x.pt\n",
            "data\t\t export.py   README.md\t       tutorial.ipynb  yolov5x.yaml\n",
            "dataset.yaml\t hubconf.py  requirements.txt  utils\n",
            "detect.py\t LICENSE     setup.cfg\t       val.py\n"
          ]
        }
      ]
    },
    {
      "cell_type": "code",
      "metadata": {
        "colab": {
          "base_uri": "https://localhost:8080/"
        },
        "id": "QZb3-Sf7oLX8",
        "outputId": "1e160a44-aa92-4a78-dcb5-64c9b69cd455"
      },
      "source": [
        "%cd /content/drive/MyDrive/Interview/EagleView/YOLO_v5x"
      ],
      "execution_count": 2,
      "outputs": [
        {
          "output_type": "stream",
          "name": "stdout",
          "text": [
            "/content/drive/MyDrive/Interview/EagleView/YOLO_v5x\n"
          ]
        }
      ]
    },
    {
      "cell_type": "code",
      "metadata": {
        "colab": {
          "base_uri": "https://localhost:8080/"
        },
        "id": "euWdzIkroSSZ",
        "outputId": "867bfd70-94f5-4653-a857-509d22eb59dd"
      },
      "source": [
        "!ls"
      ],
      "execution_count": 7,
      "outputs": [
        {
          "output_type": "stream",
          "name": "stdout",
          "text": [
            "dataset  dataset.zip  Untitled0.ipynb  yolov5\n"
          ]
        }
      ]
    },
    {
      "cell_type": "code",
      "metadata": {
        "id": "InhEGZtfoTNp"
      },
      "source": [
        "#!unzip dataset.zip"
      ],
      "execution_count": 8,
      "outputs": []
    },
    {
      "cell_type": "code",
      "metadata": {
        "colab": {
          "base_uri": "https://localhost:8080/"
        },
        "id": "Us5jYD1xoXSK",
        "outputId": "3cd9cad3-522c-4d1f-e464-5a8696810126"
      },
      "source": [
        "%cd ./yolov5/"
      ],
      "execution_count": 3,
      "outputs": [
        {
          "output_type": "stream",
          "name": "stdout",
          "text": [
            "/content/drive/My Drive/Interview/EagleView/YOLO_v5x/yolov5\n"
          ]
        }
      ]
    },
    {
      "cell_type": "markdown",
      "metadata": {
        "id": "ty-E0i_bp6YQ"
      },
      "source": [
        "Training"
      ]
    },
    {
      "cell_type": "code",
      "metadata": {
        "id": "ZxVZc-ZPp25t",
        "colab": {
          "base_uri": "https://localhost:8080/"
        },
        "outputId": "8098f294-b047-4f0f-bb69-fe572dadd590"
      },
      "source": [
        "!python train.py --img 640 --batch 8 --weights yolov5x.pt --data dataset.yaml --cfg yolov5x.yaml --epochs 300"
      ],
      "execution_count": 12,
      "outputs": [
        {
          "output_type": "stream",
          "name": "stdout",
          "text": [
            "\u001b[34m\u001b[1mtrain: \u001b[0mweights=yolov5x.pt, cfg=yolov5x.yaml, data=dataset.yaml, hyp=data/hyps/hyp.scratch.yaml, epochs=300, batch_size=8, imgsz=640, rect=False, resume=False, nosave=False, noval=False, noautoanchor=False, evolve=None, bucket=, cache=None, image_weights=False, device=, multi_scale=False, single_cls=False, adam=False, sync_bn=False, workers=8, project=runs/train, name=exp, exist_ok=False, quad=False, linear_lr=False, label_smoothing=0.0, patience=100, freeze=0, save_period=-1, local_rank=-1, entity=None, upload_dataset=False, bbox_interval=-1, artifact_alias=latest\n",
            "\u001b[34m\u001b[1mgithub: \u001b[0mup to date with https://github.com/ultralytics/yolov5 ✅\n",
            "YOLOv5 🚀 2021-12-5 torch 1.10.0+cu111 CUDA:0 (Tesla K80, 11441MiB)\n",
            "\n",
            "\u001b[34m\u001b[1mhyperparameters: \u001b[0mlr0=0.01, lrf=0.1, momentum=0.937, weight_decay=0.0005, warmup_epochs=3.0, warmup_momentum=0.8, warmup_bias_lr=0.1, box=0.05, cls=0.5, cls_pw=1.0, obj=1.0, obj_pw=1.0, iou_t=0.2, anchor_t=4.0, fl_gamma=0.0, hsv_h=0.015, hsv_s=0.7, hsv_v=0.4, degrees=0.0, translate=0.1, scale=0.5, shear=0.0, perspective=0.0, flipud=0.0, fliplr=0.5, mosaic=1.0, mixup=0.0, copy_paste=0.0\n",
            "\u001b[34m\u001b[1mWeights & Biases: \u001b[0mrun 'pip install wandb' to automatically track and visualize YOLOv5 🚀 runs (RECOMMENDED)\n",
            "\u001b[34m\u001b[1mTensorBoard: \u001b[0mStart with 'tensorboard --logdir runs/train', view at http://localhost:6006/\n",
            "\n",
            "                 from  n    params  module                                  arguments                     \n",
            "  0                -1  1      8800  models.common.Conv                      [3, 80, 6, 2, 2]              \n",
            "  1                -1  1    115520  models.common.Conv                      [80, 160, 3, 2]               \n",
            "  2                -1  4    309120  models.common.C3                        [160, 160, 4]                 \n",
            "  3                -1  1    461440  models.common.Conv                      [160, 320, 3, 2]              \n",
            "  4                -1  8   2259200  models.common.C3                        [320, 320, 8]                 \n",
            "  5                -1  1   1844480  models.common.Conv                      [320, 640, 3, 2]              \n",
            "  6                -1 12  13125120  models.common.C3                        [640, 640, 12]                \n",
            "  7                -1  1   7375360  models.common.Conv                      [640, 1280, 3, 2]             \n",
            "  8                -1  4  19676160  models.common.C3                        [1280, 1280, 4]               \n",
            "  9                -1  1   4099840  models.common.SPPF                      [1280, 1280, 5]               \n",
            " 10                -1  1    820480  models.common.Conv                      [1280, 640, 1, 1]             \n",
            " 11                -1  1         0  torch.nn.modules.upsampling.Upsample    [None, 2, 'nearest']          \n",
            " 12           [-1, 6]  1         0  models.common.Concat                    [1]                           \n",
            " 13                -1  4   5332480  models.common.C3                        [1280, 640, 4, False]         \n",
            " 14                -1  1    205440  models.common.Conv                      [640, 320, 1, 1]              \n",
            " 15                -1  1         0  torch.nn.modules.upsampling.Upsample    [None, 2, 'nearest']          \n",
            " 16           [-1, 4]  1         0  models.common.Concat                    [1]                           \n",
            " 17                -1  4   1335040  models.common.C3                        [640, 320, 4, False]          \n",
            " 18                -1  1    922240  models.common.Conv                      [320, 320, 3, 2]              \n",
            " 19          [-1, 14]  1         0  models.common.Concat                    [1]                           \n",
            " 20                -1  4   4922880  models.common.C3                        [640, 640, 4, False]          \n",
            " 21                -1  1   3687680  models.common.Conv                      [640, 640, 3, 2]              \n",
            " 22          [-1, 10]  1         0  models.common.Concat                    [1]                           \n",
            " 23                -1  4  19676160  models.common.C3                        [1280, 1280, 4, False]        \n",
            " 24      [17, 20, 23]  1     47103  models.yolo.Detect                      [2, [[10, 13, 16, 30, 33, 23], [30, 61, 62, 45, 59, 119], [116, 90, 156, 198, 373, 326]], [320, 640, 1280]]\n",
            "Model Summary: 567 layers, 86224543 parameters, 86224543 gradients, 204.2 GFLOPs\n",
            "\n",
            "Transferred 738/745 items from yolov5x.pt\n",
            "Scaled weight_decay = 0.0005\n",
            "\u001b[34m\u001b[1moptimizer:\u001b[0m SGD with parameter groups 123 weight, 126 weight (no decay), 126 bias\n",
            "\u001b[34m\u001b[1malbumentations: \u001b[0mversion 1.0.3 required by YOLOv5, but version 0.1.12 is currently installed\n",
            "\u001b[34m\u001b[1mtrain: \u001b[0mScanning '/content/drive/My Drive/Interview/EagleView/YOLO_v5x/dataset/labels/train.cache' images and labels... 2100 found, 0 missing, 0 empty, 0 corrupted: 100% 2100/2100 [00:00<?, ?it/s]\n",
            "\u001b[34m\u001b[1mval: \u001b[0mScanning '/content/drive/My Drive/Interview/EagleView/YOLO_v5x/dataset/labels/val.cache' images and labels... 139 found, 0 missing, 0 empty, 0 corrupted: 100% 139/139 [00:00<?, ?it/s]\n",
            "Plotting labels to runs/train/exp3/labels.jpg... \n",
            "\n",
            "\u001b[34m\u001b[1mAutoAnchor: \u001b[0m4.70 anchors/target, 0.998 Best Possible Recall (BPR). Current anchors are a good fit to dataset ✅\n",
            "Image sizes 640 train, 640 val\n",
            "Using 2 dataloader workers\n",
            "Logging results to \u001b[1mruns/train/exp3\u001b[0m\n",
            "Starting training for 300 epochs...\n",
            "\n",
            "     Epoch   gpu_mem       box       obj       cls    labels  img_size\n",
            "     0/299     7.41G   0.07759   0.07311   0.01707        86       640: 100% 263/263 [23:43<00:00,  5.41s/it]\n",
            "               Class     Images     Labels          P          R     mAP@.5 mAP@.5:.95: 100% 9/9 [00:23<00:00,  2.59s/it]\n",
            "                 all        139        956      0.436      0.554      0.443      0.162\n",
            "\n",
            "     Epoch   gpu_mem       box       obj       cls    labels  img_size\n",
            "     1/299     8.81G   0.06099   0.06006  0.006574        82       640: 100% 263/263 [23:40<00:00,  5.40s/it]\n",
            "               Class     Images     Labels          P          R     mAP@.5 mAP@.5:.95: 100% 9/9 [00:23<00:00,  2.61s/it]\n",
            "                 all        139        956      0.597      0.662      0.655      0.331\n",
            "\n",
            "     Epoch   gpu_mem       box       obj       cls    labels  img_size\n",
            "     2/299     8.81G   0.05745   0.06011  0.006052        59       640: 100% 263/263 [23:29<00:00,  5.36s/it]\n",
            "               Class     Images     Labels          P          R     mAP@.5 mAP@.5:.95: 100% 9/9 [00:22<00:00,  2.53s/it]\n",
            "                 all        139        956      0.613      0.653      0.652        0.3\n",
            "\n",
            "     Epoch   gpu_mem       box       obj       cls    labels  img_size\n",
            "     3/299     8.81G   0.05538   0.06091  0.005747        45       640: 100% 263/263 [23:21<00:00,  5.33s/it]\n",
            "               Class     Images     Labels          P          R     mAP@.5 mAP@.5:.95: 100% 9/9 [00:23<00:00,  2.59s/it]\n",
            "                 all        139        956      0.778      0.677      0.754      0.399\n",
            "\n",
            "     Epoch   gpu_mem       box       obj       cls    labels  img_size\n",
            "     4/299     8.81G   0.05059    0.0608  0.005572        35       640: 100% 263/263 [23:39<00:00,  5.40s/it]\n",
            "               Class     Images     Labels          P          R     mAP@.5 mAP@.5:.95: 100% 9/9 [00:23<00:00,  2.59s/it]\n",
            "                 all        139        956      0.767       0.72      0.755      0.415\n",
            "\n",
            "     Epoch   gpu_mem       box       obj       cls    labels  img_size\n",
            "     5/299     8.81G   0.04822   0.06207  0.005285        54       640: 100% 263/263 [23:41<00:00,  5.40s/it]\n",
            "               Class     Images     Labels          P          R     mAP@.5 mAP@.5:.95: 100% 9/9 [00:23<00:00,  2.59s/it]\n",
            "                 all        139        956      0.752      0.712      0.741      0.416\n",
            "\n",
            "     Epoch   gpu_mem       box       obj       cls    labels  img_size\n",
            "     6/299     8.81G   0.04652   0.06159  0.005057        74       640:  87% 228/263 [20:35<03:09,  5.42s/it]\n",
            "Traceback (most recent call last):\n",
            "  File \"train.py\", line 626, in <module>\n",
            "    main(opt)\n",
            "  File \"train.py\", line 523, in main\n",
            "    train(opt.hyp, opt, device, callbacks)\n",
            "  File \"train.py\", line 320, in train\n",
            "    loss, loss_items = compute_loss(pred, targets.to(device))  # loss scaled by batch_size\n",
            "KeyboardInterrupt\n",
            "^C\n"
          ]
        }
      ]
    },
    {
      "cell_type": "code",
      "metadata": {
        "id": "HJ4Yqo2tueE1",
        "colab": {
          "base_uri": "https://localhost:8080/"
        },
        "outputId": "8e84917a-baf6-40c4-d371-298fda2cdf60"
      },
      "source": [
        "!python detect.py --img 640 --weights /content/drive/MyDrive/Interview/EagleView/YOLO_v5x/yolov5/runs/train/exp3/weights/best.pt --source img1.jpg"
      ],
      "execution_count": 13,
      "outputs": [
        {
          "output_type": "stream",
          "name": "stdout",
          "text": [
            "\u001b[34m\u001b[1mdetect: \u001b[0mweights=['/content/drive/MyDrive/Interview/EagleView/YOLO_v5x/yolov5/runs/train/exp3/weights/best.pt'], source=img1.jpg, imgsz=[640, 640], conf_thres=0.25, iou_thres=0.45, max_det=1000, device=, view_img=False, save_txt=False, save_conf=False, save_crop=False, nosave=False, classes=None, agnostic_nms=False, augment=False, visualize=False, update=False, project=runs/detect, name=exp, exist_ok=False, line_thickness=3, hide_labels=False, hide_conf=False, half=False, dnn=False\n",
            "YOLOv5 🚀 2021-12-5 torch 1.10.0+cu111 CUDA:0 (Tesla K80, 11441MiB)\n",
            "\n",
            "Fusing layers... \n",
            "Model Summary: 444 layers, 86180143 parameters, 0 gradients, 204.0 GFLOPs\n",
            "image 1/1 /content/drive/MyDrive/Interview/EagleView/YOLO_v5x/yolov5/img1.jpg: 384x640 1 person, 1 car, Done. (0.177s)\n",
            "Speed: 0.6ms pre-process, 176.6ms inference, 2.2ms NMS per image at shape (1, 3, 640, 640)\n",
            "Results saved to \u001b[1mruns/detect/exp\u001b[0m\n"
          ]
        }
      ]
    },
    {
      "cell_type": "code",
      "metadata": {
        "colab": {
          "base_uri": "https://localhost:8080/"
        },
        "id": "_P8wuP0d691B",
        "outputId": "feb5fea0-3220-43c1-da3c-a5672360660c"
      },
      "source": [
        "!python detect.py --img 640 --weights /content/drive/MyDrive/Interview/EagleView/YOLO_v5x/yolov5/runs/train/exp3/weights/best.pt --source img2.jpg"
      ],
      "execution_count": 4,
      "outputs": [
        {
          "output_type": "stream",
          "name": "stdout",
          "text": [
            "Downloading https://ultralytics.com/assets/Arial.ttf to /root/.config/Ultralytics/Arial.ttf...\n",
            "\u001b[34m\u001b[1mdetect: \u001b[0mweights=['/content/drive/MyDrive/Interview/EagleView/YOLO_v5x/yolov5/runs/train/exp3/weights/best.pt'], source=img2.jpg, imgsz=[640, 640], conf_thres=0.25, iou_thres=0.45, max_det=1000, device=, view_img=False, save_txt=False, save_conf=False, save_crop=False, nosave=False, classes=None, agnostic_nms=False, augment=False, visualize=False, update=False, project=runs/detect, name=exp, exist_ok=False, line_thickness=3, hide_labels=False, hide_conf=False, half=False, dnn=False\n",
            "\u001b[31m\u001b[1mrequirements:\u001b[0m PyYAML>=5.3.1 not found and is required by YOLOv5, attempting auto-update...\n",
            "Collecting PyYAML>=5.3.1\n",
            "  Downloading PyYAML-6.0-cp37-cp37m-manylinux_2_5_x86_64.manylinux1_x86_64.manylinux_2_12_x86_64.manylinux2010_x86_64.whl (596 kB)\n",
            "Installing collected packages: PyYAML\n",
            "  Attempting uninstall: PyYAML\n",
            "    Found existing installation: PyYAML 3.13\n",
            "    Uninstalling PyYAML-3.13:\n",
            "      Successfully uninstalled PyYAML-3.13\n",
            "Successfully installed PyYAML-6.0\n",
            "\n",
            "\u001b[31m\u001b[1mrequirements:\u001b[0m 1 package updated per /content/drive/My Drive/Interview/EagleView/YOLO_v5x/yolov5/requirements.txt\n",
            "\u001b[31m\u001b[1mrequirements:\u001b[0m ⚠️ \u001b[1mRestart runtime or rerun command for updates to take effect\u001b[0m\n",
            "\n",
            "YOLOv5 🚀 2021-12-5 torch 1.10.0+cu111 CUDA:0 (Tesla K80, 11441MiB)\n",
            "\n",
            "Fusing layers... \n",
            "Model Summary: 444 layers, 86180143 parameters, 0 gradients\n",
            "image 1/1 /content/drive/My Drive/Interview/EagleView/YOLO_v5x/yolov5/img2.jpg: 480x640 1 person, 1 car, Done. (0.198s)\n",
            "Speed: 0.5ms pre-process, 198.5ms inference, 44.9ms NMS per image at shape (1, 3, 640, 640)\n",
            "Results saved to \u001b[1mruns/detect/exp3\u001b[0m\n"
          ]
        }
      ]
    },
    {
      "cell_type": "code",
      "metadata": {
        "colab": {
          "base_uri": "https://localhost:8080/"
        },
        "id": "XEDREnCt7K4B",
        "outputId": "9f142636-462a-4166-e70b-ccc9396dbec0"
      },
      "source": [
        "!python detect.py --img 640 --weights /content/drive/MyDrive/Interview/EagleView/YOLO_v5x/yolov5/runs/train/exp3/weights/best.pt --source img3.jpg"
      ],
      "execution_count": 5,
      "outputs": [
        {
          "output_type": "stream",
          "name": "stdout",
          "text": [
            "\u001b[34m\u001b[1mdetect: \u001b[0mweights=['/content/drive/MyDrive/Interview/EagleView/YOLO_v5x/yolov5/runs/train/exp3/weights/best.pt'], source=img3.jpg, imgsz=[640, 640], conf_thres=0.25, iou_thres=0.45, max_det=1000, device=, view_img=False, save_txt=False, save_conf=False, save_crop=False, nosave=False, classes=None, agnostic_nms=False, augment=False, visualize=False, update=False, project=runs/detect, name=exp, exist_ok=False, line_thickness=3, hide_labels=False, hide_conf=False, half=False, dnn=False\n",
            "YOLOv5 🚀 2021-12-5 torch 1.10.0+cu111 CUDA:0 (Tesla K80, 11441MiB)\n",
            "\n",
            "Fusing layers... \n",
            "Model Summary: 444 layers, 86180143 parameters, 0 gradients\n",
            "image 1/1 /content/drive/My Drive/Interview/EagleView/YOLO_v5x/yolov5/img3.jpg: 448x640 1 person, 1 car, Done. (0.213s)\n",
            "Speed: 0.5ms pre-process, 213.5ms inference, 1.7ms NMS per image at shape (1, 3, 640, 640)\n",
            "Results saved to \u001b[1mruns/detect/exp4\u001b[0m\n"
          ]
        }
      ]
    },
    {
      "cell_type": "code",
      "metadata": {
        "colab": {
          "base_uri": "https://localhost:8080/"
        },
        "id": "y1A6lJ_v7ptS",
        "outputId": "3b47e82e-f4ad-44a4-cfcb-778f9c4c95c0"
      },
      "source": [
        "!python detect.py --img 640 --weights /content/drive/MyDrive/Interview/EagleView/YOLO_v5x/yolov5/runs/train/exp3/weights/best.pt --source videoplayback.mp4"
      ],
      "execution_count": 6,
      "outputs": [
        {
          "output_type": "stream",
          "name": "stdout",
          "text": [
            "\u001b[34m\u001b[1mdetect: \u001b[0mweights=['/content/drive/MyDrive/Interview/EagleView/YOLO_v5x/yolov5/runs/train/exp3/weights/best.pt'], source=videoplayback.mp4, imgsz=[640, 640], conf_thres=0.25, iou_thres=0.45, max_det=1000, device=, view_img=False, save_txt=False, save_conf=False, save_crop=False, nosave=False, classes=None, agnostic_nms=False, augment=False, visualize=False, update=False, project=runs/detect, name=exp, exist_ok=False, line_thickness=3, hide_labels=False, hide_conf=False, half=False, dnn=False\n",
            "YOLOv5 🚀 2021-12-5 torch 1.10.0+cu111 CUDA:0 (Tesla K80, 11441MiB)\n",
            "\n",
            "Fusing layers... \n",
            "Model Summary: 444 layers, 86180143 parameters, 0 gradients\n",
            "video 1/1 (1/292) /content/drive/My Drive/Interview/EagleView/YOLO_v5x/yolov5/videoplayback.mp4: 640x384 1 person, 2 cars, Done. (0.159s)\n",
            "video 1/1 (2/292) /content/drive/My Drive/Interview/EagleView/YOLO_v5x/yolov5/videoplayback.mp4: 640x384 2 persons, 2 cars, Done. (0.140s)\n",
            "video 1/1 (3/292) /content/drive/My Drive/Interview/EagleView/YOLO_v5x/yolov5/videoplayback.mp4: 640x384 1 person, 2 cars, Done. (0.132s)\n",
            "video 1/1 (4/292) /content/drive/My Drive/Interview/EagleView/YOLO_v5x/yolov5/videoplayback.mp4: 640x384 2 cars, Done. (0.128s)\n",
            "video 1/1 (5/292) /content/drive/My Drive/Interview/EagleView/YOLO_v5x/yolov5/videoplayback.mp4: 640x384 1 person, 2 cars, Done. (0.128s)\n",
            "video 1/1 (6/292) /content/drive/My Drive/Interview/EagleView/YOLO_v5x/yolov5/videoplayback.mp4: 640x384 2 persons, 2 cars, Done. (0.129s)\n",
            "video 1/1 (7/292) /content/drive/My Drive/Interview/EagleView/YOLO_v5x/yolov5/videoplayback.mp4: 640x384 3 persons, 2 cars, Done. (0.129s)\n",
            "video 1/1 (8/292) /content/drive/My Drive/Interview/EagleView/YOLO_v5x/yolov5/videoplayback.mp4: 640x384 1 person, 2 cars, Done. (0.129s)\n",
            "video 1/1 (9/292) /content/drive/My Drive/Interview/EagleView/YOLO_v5x/yolov5/videoplayback.mp4: 640x384 2 persons, 1 car, Done. (0.129s)\n",
            "video 1/1 (10/292) /content/drive/My Drive/Interview/EagleView/YOLO_v5x/yolov5/videoplayback.mp4: 640x384 1 car, Done. (0.130s)\n",
            "video 1/1 (11/292) /content/drive/My Drive/Interview/EagleView/YOLO_v5x/yolov5/videoplayback.mp4: 640x384 1 person, 1 car, Done. (0.129s)\n",
            "video 1/1 (12/292) /content/drive/My Drive/Interview/EagleView/YOLO_v5x/yolov5/videoplayback.mp4: 640x384 1 person, 1 car, Done. (0.129s)\n",
            "video 1/1 (13/292) /content/drive/My Drive/Interview/EagleView/YOLO_v5x/yolov5/videoplayback.mp4: 640x384 1 car, Done. (0.127s)\n",
            "video 1/1 (14/292) /content/drive/My Drive/Interview/EagleView/YOLO_v5x/yolov5/videoplayback.mp4: 640x384 1 car, Done. (0.127s)\n",
            "video 1/1 (15/292) /content/drive/My Drive/Interview/EagleView/YOLO_v5x/yolov5/videoplayback.mp4: 640x384 1 person, 1 car, Done. (0.126s)\n",
            "video 1/1 (16/292) /content/drive/My Drive/Interview/EagleView/YOLO_v5x/yolov5/videoplayback.mp4: 640x384 1 person, 1 car, Done. (0.126s)\n",
            "video 1/1 (17/292) /content/drive/My Drive/Interview/EagleView/YOLO_v5x/yolov5/videoplayback.mp4: 640x384 1 car, Done. (0.128s)\n",
            "video 1/1 (18/292) /content/drive/My Drive/Interview/EagleView/YOLO_v5x/yolov5/videoplayback.mp4: 640x384 1 person, 1 car, Done. (0.127s)\n",
            "video 1/1 (19/292) /content/drive/My Drive/Interview/EagleView/YOLO_v5x/yolov5/videoplayback.mp4: 640x384 1 car, Done. (0.128s)\n",
            "video 1/1 (20/292) /content/drive/My Drive/Interview/EagleView/YOLO_v5x/yolov5/videoplayback.mp4: 640x384 1 car, Done. (0.126s)\n",
            "video 1/1 (21/292) /content/drive/My Drive/Interview/EagleView/YOLO_v5x/yolov5/videoplayback.mp4: 640x384 1 car, Done. (0.127s)\n",
            "video 1/1 (22/292) /content/drive/My Drive/Interview/EagleView/YOLO_v5x/yolov5/videoplayback.mp4: 640x384 1 car, Done. (0.129s)\n",
            "video 1/1 (23/292) /content/drive/My Drive/Interview/EagleView/YOLO_v5x/yolov5/videoplayback.mp4: 640x384 1 car, Done. (0.129s)\n",
            "video 1/1 (24/292) /content/drive/My Drive/Interview/EagleView/YOLO_v5x/yolov5/videoplayback.mp4: 640x384 1 car, Done. (0.130s)\n",
            "video 1/1 (25/292) /content/drive/My Drive/Interview/EagleView/YOLO_v5x/yolov5/videoplayback.mp4: 640x384 1 car, Done. (0.128s)\n",
            "video 1/1 (26/292) /content/drive/My Drive/Interview/EagleView/YOLO_v5x/yolov5/videoplayback.mp4: 640x384 1 car, Done. (0.126s)\n",
            "video 1/1 (27/292) /content/drive/My Drive/Interview/EagleView/YOLO_v5x/yolov5/videoplayback.mp4: 640x384 1 car, Done. (0.127s)\n",
            "video 1/1 (28/292) /content/drive/My Drive/Interview/EagleView/YOLO_v5x/yolov5/videoplayback.mp4: 640x384 1 car, Done. (0.127s)\n",
            "video 1/1 (29/292) /content/drive/My Drive/Interview/EagleView/YOLO_v5x/yolov5/videoplayback.mp4: 640x384 1 car, Done. (0.128s)\n",
            "video 1/1 (30/292) /content/drive/My Drive/Interview/EagleView/YOLO_v5x/yolov5/videoplayback.mp4: 640x384 1 car, Done. (0.127s)\n",
            "video 1/1 (31/292) /content/drive/My Drive/Interview/EagleView/YOLO_v5x/yolov5/videoplayback.mp4: 640x384 1 car, Done. (0.127s)\n",
            "video 1/1 (32/292) /content/drive/My Drive/Interview/EagleView/YOLO_v5x/yolov5/videoplayback.mp4: 640x384 1 car, Done. (0.128s)\n",
            "video 1/1 (33/292) /content/drive/My Drive/Interview/EagleView/YOLO_v5x/yolov5/videoplayback.mp4: 640x384 1 car, Done. (0.127s)\n",
            "video 1/1 (34/292) /content/drive/My Drive/Interview/EagleView/YOLO_v5x/yolov5/videoplayback.mp4: 640x384 1 car, Done. (0.128s)\n",
            "video 1/1 (35/292) /content/drive/My Drive/Interview/EagleView/YOLO_v5x/yolov5/videoplayback.mp4: 640x384 1 car, Done. (0.129s)\n",
            "video 1/1 (36/292) /content/drive/My Drive/Interview/EagleView/YOLO_v5x/yolov5/videoplayback.mp4: 640x384 1 person, 1 car, Done. (0.129s)\n",
            "video 1/1 (37/292) /content/drive/My Drive/Interview/EagleView/YOLO_v5x/yolov5/videoplayback.mp4: 640x384 1 car, Done. (0.127s)\n",
            "video 1/1 (38/292) /content/drive/My Drive/Interview/EagleView/YOLO_v5x/yolov5/videoplayback.mp4: 640x384 1 car, Done. (0.125s)\n",
            "video 1/1 (39/292) /content/drive/My Drive/Interview/EagleView/YOLO_v5x/yolov5/videoplayback.mp4: 640x384 1 car, Done. (0.125s)\n",
            "video 1/1 (40/292) /content/drive/My Drive/Interview/EagleView/YOLO_v5x/yolov5/videoplayback.mp4: 640x384 1 car, Done. (0.128s)\n",
            "video 1/1 (41/292) /content/drive/My Drive/Interview/EagleView/YOLO_v5x/yolov5/videoplayback.mp4: 640x384 1 car, Done. (0.129s)\n",
            "video 1/1 (42/292) /content/drive/My Drive/Interview/EagleView/YOLO_v5x/yolov5/videoplayback.mp4: 640x384 1 car, Done. (0.128s)\n",
            "video 1/1 (43/292) /content/drive/My Drive/Interview/EagleView/YOLO_v5x/yolov5/videoplayback.mp4: 640x384 1 car, Done. (0.128s)\n",
            "video 1/1 (44/292) /content/drive/My Drive/Interview/EagleView/YOLO_v5x/yolov5/videoplayback.mp4: 640x384 1 car, Done. (0.127s)\n",
            "video 1/1 (45/292) /content/drive/My Drive/Interview/EagleView/YOLO_v5x/yolov5/videoplayback.mp4: 640x384 1 car, Done. (0.127s)\n",
            "video 1/1 (46/292) /content/drive/My Drive/Interview/EagleView/YOLO_v5x/yolov5/videoplayback.mp4: 640x384 1 car, Done. (0.130s)\n",
            "video 1/1 (47/292) /content/drive/My Drive/Interview/EagleView/YOLO_v5x/yolov5/videoplayback.mp4: 640x384 1 car, Done. (0.128s)\n",
            "video 1/1 (48/292) /content/drive/My Drive/Interview/EagleView/YOLO_v5x/yolov5/videoplayback.mp4: 640x384 1 car, Done. (0.127s)\n",
            "video 1/1 (49/292) /content/drive/My Drive/Interview/EagleView/YOLO_v5x/yolov5/videoplayback.mp4: 640x384 1 car, Done. (0.128s)\n",
            "video 1/1 (50/292) /content/drive/My Drive/Interview/EagleView/YOLO_v5x/yolov5/videoplayback.mp4: 640x384 1 car, Done. (0.127s)\n",
            "video 1/1 (51/292) /content/drive/My Drive/Interview/EagleView/YOLO_v5x/yolov5/videoplayback.mp4: 640x384 1 car, Done. (0.126s)\n",
            "video 1/1 (52/292) /content/drive/My Drive/Interview/EagleView/YOLO_v5x/yolov5/videoplayback.mp4: 640x384 1 car, Done. (0.128s)\n",
            "video 1/1 (53/292) /content/drive/My Drive/Interview/EagleView/YOLO_v5x/yolov5/videoplayback.mp4: 640x384 1 car, Done. (0.128s)\n",
            "video 1/1 (54/292) /content/drive/My Drive/Interview/EagleView/YOLO_v5x/yolov5/videoplayback.mp4: 640x384 1 car, Done. (0.128s)\n",
            "video 1/1 (55/292) /content/drive/My Drive/Interview/EagleView/YOLO_v5x/yolov5/videoplayback.mp4: 640x384 1 car, Done. (0.127s)\n",
            "video 1/1 (56/292) /content/drive/My Drive/Interview/EagleView/YOLO_v5x/yolov5/videoplayback.mp4: 640x384 1 car, Done. (0.128s)\n",
            "video 1/1 (57/292) /content/drive/My Drive/Interview/EagleView/YOLO_v5x/yolov5/videoplayback.mp4: 640x384 1 car, Done. (0.128s)\n",
            "video 1/1 (58/292) /content/drive/My Drive/Interview/EagleView/YOLO_v5x/yolov5/videoplayback.mp4: 640x384 1 car, Done. (0.126s)\n",
            "video 1/1 (59/292) /content/drive/My Drive/Interview/EagleView/YOLO_v5x/yolov5/videoplayback.mp4: 640x384 1 car, Done. (0.125s)\n",
            "video 1/1 (60/292) /content/drive/My Drive/Interview/EagleView/YOLO_v5x/yolov5/videoplayback.mp4: 640x384 1 car, Done. (0.125s)\n",
            "video 1/1 (61/292) /content/drive/My Drive/Interview/EagleView/YOLO_v5x/yolov5/videoplayback.mp4: 640x384 1 car, Done. (0.127s)\n",
            "video 1/1 (62/292) /content/drive/My Drive/Interview/EagleView/YOLO_v5x/yolov5/videoplayback.mp4: 640x384 1 car, Done. (0.129s)\n",
            "video 1/1 (63/292) /content/drive/My Drive/Interview/EagleView/YOLO_v5x/yolov5/videoplayback.mp4: 640x384 1 car, Done. (0.129s)\n",
            "video 1/1 (64/292) /content/drive/My Drive/Interview/EagleView/YOLO_v5x/yolov5/videoplayback.mp4: 640x384 1 car, Done. (0.128s)\n",
            "video 1/1 (65/292) /content/drive/My Drive/Interview/EagleView/YOLO_v5x/yolov5/videoplayback.mp4: 640x384 1 car, Done. (0.128s)\n",
            "video 1/1 (66/292) /content/drive/My Drive/Interview/EagleView/YOLO_v5x/yolov5/videoplayback.mp4: 640x384 1 car, Done. (0.127s)\n",
            "video 1/1 (67/292) /content/drive/My Drive/Interview/EagleView/YOLO_v5x/yolov5/videoplayback.mp4: 640x384 1 car, Done. (0.127s)\n",
            "video 1/1 (68/292) /content/drive/My Drive/Interview/EagleView/YOLO_v5x/yolov5/videoplayback.mp4: 640x384 1 car, Done. (0.130s)\n",
            "video 1/1 (69/292) /content/drive/My Drive/Interview/EagleView/YOLO_v5x/yolov5/videoplayback.mp4: 640x384 1 car, Done. (0.128s)\n",
            "video 1/1 (70/292) /content/drive/My Drive/Interview/EagleView/YOLO_v5x/yolov5/videoplayback.mp4: 640x384 1 car, Done. (0.127s)\n",
            "video 1/1 (71/292) /content/drive/My Drive/Interview/EagleView/YOLO_v5x/yolov5/videoplayback.mp4: 640x384 1 car, Done. (0.127s)\n",
            "video 1/1 (72/292) /content/drive/My Drive/Interview/EagleView/YOLO_v5x/yolov5/videoplayback.mp4: 640x384 1 car, Done. (0.127s)\n",
            "video 1/1 (73/292) /content/drive/My Drive/Interview/EagleView/YOLO_v5x/yolov5/videoplayback.mp4: 640x384 1 car, Done. (0.128s)\n",
            "video 1/1 (74/292) /content/drive/My Drive/Interview/EagleView/YOLO_v5x/yolov5/videoplayback.mp4: 640x384 1 car, Done. (0.127s)\n",
            "video 1/1 (75/292) /content/drive/My Drive/Interview/EagleView/YOLO_v5x/yolov5/videoplayback.mp4: 640x384 1 car, Done. (0.128s)\n",
            "video 1/1 (76/292) /content/drive/My Drive/Interview/EagleView/YOLO_v5x/yolov5/videoplayback.mp4: 640x384 1 car, Done. (0.127s)\n",
            "video 1/1 (77/292) /content/drive/My Drive/Interview/EagleView/YOLO_v5x/yolov5/videoplayback.mp4: 640x384 1 car, Done. (0.128s)\n",
            "video 1/1 (78/292) /content/drive/My Drive/Interview/EagleView/YOLO_v5x/yolov5/videoplayback.mp4: 640x384 1 car, Done. (0.127s)\n",
            "video 1/1 (79/292) /content/drive/My Drive/Interview/EagleView/YOLO_v5x/yolov5/videoplayback.mp4: 640x384 1 car, Done. (0.127s)\n",
            "video 1/1 (80/292) /content/drive/My Drive/Interview/EagleView/YOLO_v5x/yolov5/videoplayback.mp4: 640x384 1 car, Done. (0.128s)\n",
            "video 1/1 (81/292) /content/drive/My Drive/Interview/EagleView/YOLO_v5x/yolov5/videoplayback.mp4: 640x384 1 car, Done. (0.127s)\n",
            "video 1/1 (82/292) /content/drive/My Drive/Interview/EagleView/YOLO_v5x/yolov5/videoplayback.mp4: 640x384 1 car, Done. (0.126s)\n",
            "video 1/1 (83/292) /content/drive/My Drive/Interview/EagleView/YOLO_v5x/yolov5/videoplayback.mp4: 640x384 1 car, Done. (0.127s)\n",
            "video 1/1 (84/292) /content/drive/My Drive/Interview/EagleView/YOLO_v5x/yolov5/videoplayback.mp4: 640x384 1 car, Done. (0.128s)\n",
            "video 1/1 (85/292) /content/drive/My Drive/Interview/EagleView/YOLO_v5x/yolov5/videoplayback.mp4: 640x384 1 car, Done. (0.128s)\n",
            "video 1/1 (86/292) /content/drive/My Drive/Interview/EagleView/YOLO_v5x/yolov5/videoplayback.mp4: 640x384 1 car, Done. (0.127s)\n",
            "video 1/1 (87/292) /content/drive/My Drive/Interview/EagleView/YOLO_v5x/yolov5/videoplayback.mp4: 640x384 1 car, Done. (0.129s)\n",
            "video 1/1 (88/292) /content/drive/My Drive/Interview/EagleView/YOLO_v5x/yolov5/videoplayback.mp4: 640x384 1 car, Done. (0.128s)\n",
            "video 1/1 (89/292) /content/drive/My Drive/Interview/EagleView/YOLO_v5x/yolov5/videoplayback.mp4: 640x384 1 car, Done. (0.128s)\n",
            "video 1/1 (90/292) /content/drive/My Drive/Interview/EagleView/YOLO_v5x/yolov5/videoplayback.mp4: 640x384 1 car, Done. (0.128s)\n",
            "video 1/1 (91/292) /content/drive/My Drive/Interview/EagleView/YOLO_v5x/yolov5/videoplayback.mp4: 640x384 1 car, Done. (0.129s)\n",
            "video 1/1 (92/292) /content/drive/My Drive/Interview/EagleView/YOLO_v5x/yolov5/videoplayback.mp4: 640x384 1 car, Done. (0.129s)\n",
            "video 1/1 (93/292) /content/drive/My Drive/Interview/EagleView/YOLO_v5x/yolov5/videoplayback.mp4: 640x384 1 car, Done. (0.127s)\n",
            "video 1/1 (94/292) /content/drive/My Drive/Interview/EagleView/YOLO_v5x/yolov5/videoplayback.mp4: 640x384 1 car, Done. (0.127s)\n",
            "video 1/1 (95/292) /content/drive/My Drive/Interview/EagleView/YOLO_v5x/yolov5/videoplayback.mp4: 640x384 1 car, Done. (0.127s)\n",
            "video 1/1 (96/292) /content/drive/My Drive/Interview/EagleView/YOLO_v5x/yolov5/videoplayback.mp4: 640x384 1 car, Done. (0.128s)\n",
            "video 1/1 (97/292) /content/drive/My Drive/Interview/EagleView/YOLO_v5x/yolov5/videoplayback.mp4: 640x384 1 car, Done. (0.128s)\n",
            "video 1/1 (98/292) /content/drive/My Drive/Interview/EagleView/YOLO_v5x/yolov5/videoplayback.mp4: 640x384 1 car, Done. (0.128s)\n",
            "video 1/1 (99/292) /content/drive/My Drive/Interview/EagleView/YOLO_v5x/yolov5/videoplayback.mp4: 640x384 1 car, Done. (0.128s)\n",
            "video 1/1 (100/292) /content/drive/My Drive/Interview/EagleView/YOLO_v5x/yolov5/videoplayback.mp4: 640x384 1 car, Done. (0.128s)\n",
            "video 1/1 (101/292) /content/drive/My Drive/Interview/EagleView/YOLO_v5x/yolov5/videoplayback.mp4: 640x384 1 car, Done. (0.128s)\n",
            "video 1/1 (102/292) /content/drive/My Drive/Interview/EagleView/YOLO_v5x/yolov5/videoplayback.mp4: 640x384 1 car, Done. (0.128s)\n",
            "video 1/1 (103/292) /content/drive/My Drive/Interview/EagleView/YOLO_v5x/yolov5/videoplayback.mp4: 640x384 1 car, Done. (0.127s)\n",
            "video 1/1 (104/292) /content/drive/My Drive/Interview/EagleView/YOLO_v5x/yolov5/videoplayback.mp4: 640x384 1 car, Done. (0.126s)\n",
            "video 1/1 (105/292) /content/drive/My Drive/Interview/EagleView/YOLO_v5x/yolov5/videoplayback.mp4: 640x384 1 car, Done. (0.128s)\n",
            "video 1/1 (106/292) /content/drive/My Drive/Interview/EagleView/YOLO_v5x/yolov5/videoplayback.mp4: 640x384 1 car, Done. (0.127s)\n",
            "video 1/1 (107/292) /content/drive/My Drive/Interview/EagleView/YOLO_v5x/yolov5/videoplayback.mp4: 640x384 1 car, Done. (0.127s)\n",
            "video 1/1 (108/292) /content/drive/My Drive/Interview/EagleView/YOLO_v5x/yolov5/videoplayback.mp4: 640x384 1 car, Done. (0.127s)\n",
            "video 1/1 (109/292) /content/drive/My Drive/Interview/EagleView/YOLO_v5x/yolov5/videoplayback.mp4: 640x384 1 car, Done. (0.127s)\n",
            "video 1/1 (110/292) /content/drive/My Drive/Interview/EagleView/YOLO_v5x/yolov5/videoplayback.mp4: 640x384 1 car, Done. (0.128s)\n",
            "video 1/1 (111/292) /content/drive/My Drive/Interview/EagleView/YOLO_v5x/yolov5/videoplayback.mp4: 640x384 1 car, Done. (0.130s)\n",
            "video 1/1 (112/292) /content/drive/My Drive/Interview/EagleView/YOLO_v5x/yolov5/videoplayback.mp4: 640x384 1 car, Done. (0.129s)\n",
            "video 1/1 (113/292) /content/drive/My Drive/Interview/EagleView/YOLO_v5x/yolov5/videoplayback.mp4: 640x384 1 car, Done. (0.128s)\n",
            "video 1/1 (114/292) /content/drive/My Drive/Interview/EagleView/YOLO_v5x/yolov5/videoplayback.mp4: 640x384 1 car, Done. (0.127s)\n",
            "video 1/1 (115/292) /content/drive/My Drive/Interview/EagleView/YOLO_v5x/yolov5/videoplayback.mp4: 640x384 1 car, Done. (0.126s)\n",
            "video 1/1 (116/292) /content/drive/My Drive/Interview/EagleView/YOLO_v5x/yolov5/videoplayback.mp4: 640x384 1 car, Done. (0.129s)\n",
            "video 1/1 (117/292) /content/drive/My Drive/Interview/EagleView/YOLO_v5x/yolov5/videoplayback.mp4: 640x384 1 car, Done. (0.128s)\n",
            "video 1/1 (118/292) /content/drive/My Drive/Interview/EagleView/YOLO_v5x/yolov5/videoplayback.mp4: 640x384 1 car, Done. (0.128s)\n",
            "video 1/1 (119/292) /content/drive/My Drive/Interview/EagleView/YOLO_v5x/yolov5/videoplayback.mp4: 640x384 1 car, Done. (0.129s)\n",
            "video 1/1 (120/292) /content/drive/My Drive/Interview/EagleView/YOLO_v5x/yolov5/videoplayback.mp4: 640x384 1 car, Done. (0.128s)\n",
            "video 1/1 (121/292) /content/drive/My Drive/Interview/EagleView/YOLO_v5x/yolov5/videoplayback.mp4: 640x384 1 car, Done. (0.127s)\n",
            "video 1/1 (122/292) /content/drive/My Drive/Interview/EagleView/YOLO_v5x/yolov5/videoplayback.mp4: 640x384 1 car, Done. (0.127s)\n",
            "video 1/1 (123/292) /content/drive/My Drive/Interview/EagleView/YOLO_v5x/yolov5/videoplayback.mp4: 640x384 1 car, Done. (0.130s)\n",
            "video 1/1 (124/292) /content/drive/My Drive/Interview/EagleView/YOLO_v5x/yolov5/videoplayback.mp4: 640x384 1 car, Done. (0.128s)\n",
            "video 1/1 (125/292) /content/drive/My Drive/Interview/EagleView/YOLO_v5x/yolov5/videoplayback.mp4: 640x384 1 car, Done. (0.127s)\n",
            "video 1/1 (126/292) /content/drive/My Drive/Interview/EagleView/YOLO_v5x/yolov5/videoplayback.mp4: 640x384 1 car, Done. (0.129s)\n",
            "video 1/1 (127/292) /content/drive/My Drive/Interview/EagleView/YOLO_v5x/yolov5/videoplayback.mp4: 640x384 1 car, Done. (0.128s)\n",
            "video 1/1 (128/292) /content/drive/My Drive/Interview/EagleView/YOLO_v5x/yolov5/videoplayback.mp4: 640x384 1 car, Done. (0.127s)\n",
            "video 1/1 (129/292) /content/drive/My Drive/Interview/EagleView/YOLO_v5x/yolov5/videoplayback.mp4: 640x384 1 car, Done. (0.128s)\n",
            "video 1/1 (130/292) /content/drive/My Drive/Interview/EagleView/YOLO_v5x/yolov5/videoplayback.mp4: 640x384 1 car, Done. (0.127s)\n",
            "video 1/1 (131/292) /content/drive/My Drive/Interview/EagleView/YOLO_v5x/yolov5/videoplayback.mp4: 640x384 1 car, Done. (0.127s)\n",
            "video 1/1 (132/292) /content/drive/My Drive/Interview/EagleView/YOLO_v5x/yolov5/videoplayback.mp4: 640x384 1 car, Done. (0.128s)\n",
            "video 1/1 (133/292) /content/drive/My Drive/Interview/EagleView/YOLO_v5x/yolov5/videoplayback.mp4: 640x384 1 car, Done. (0.127s)\n",
            "video 1/1 (134/292) /content/drive/My Drive/Interview/EagleView/YOLO_v5x/yolov5/videoplayback.mp4: 640x384 1 car, Done. (0.130s)\n",
            "video 1/1 (135/292) /content/drive/My Drive/Interview/EagleView/YOLO_v5x/yolov5/videoplayback.mp4: 640x384 1 car, Done. (0.130s)\n",
            "video 1/1 (136/292) /content/drive/My Drive/Interview/EagleView/YOLO_v5x/yolov5/videoplayback.mp4: 640x384 2 cars, Done. (0.129s)\n",
            "video 1/1 (137/292) /content/drive/My Drive/Interview/EagleView/YOLO_v5x/yolov5/videoplayback.mp4: 640x384 2 cars, Done. (0.125s)\n",
            "video 1/1 (138/292) /content/drive/My Drive/Interview/EagleView/YOLO_v5x/yolov5/videoplayback.mp4: 640x384 2 cars, Done. (0.127s)\n",
            "video 1/1 (139/292) /content/drive/My Drive/Interview/EagleView/YOLO_v5x/yolov5/videoplayback.mp4: 640x384 2 cars, Done. (0.128s)\n",
            "video 1/1 (140/292) /content/drive/My Drive/Interview/EagleView/YOLO_v5x/yolov5/videoplayback.mp4: 640x384 2 cars, Done. (0.127s)\n",
            "video 1/1 (141/292) /content/drive/My Drive/Interview/EagleView/YOLO_v5x/yolov5/videoplayback.mp4: 640x384 2 cars, Done. (0.127s)\n",
            "video 1/1 (142/292) /content/drive/My Drive/Interview/EagleView/YOLO_v5x/yolov5/videoplayback.mp4: 640x384 2 cars, Done. (0.128s)\n",
            "video 1/1 (143/292) /content/drive/My Drive/Interview/EagleView/YOLO_v5x/yolov5/videoplayback.mp4: 640x384 2 cars, Done. (0.128s)\n",
            "video 1/1 (144/292) /content/drive/My Drive/Interview/EagleView/YOLO_v5x/yolov5/videoplayback.mp4: 640x384 2 cars, Done. (0.128s)\n",
            "video 1/1 (145/292) /content/drive/My Drive/Interview/EagleView/YOLO_v5x/yolov5/videoplayback.mp4: 640x384 2 cars, Done. (0.130s)\n",
            "video 1/1 (146/292) /content/drive/My Drive/Interview/EagleView/YOLO_v5x/yolov5/videoplayback.mp4: 640x384 2 cars, Done. (0.129s)\n",
            "video 1/1 (147/292) /content/drive/My Drive/Interview/EagleView/YOLO_v5x/yolov5/videoplayback.mp4: 640x384 2 cars, Done. (0.127s)\n",
            "video 1/1 (148/292) /content/drive/My Drive/Interview/EagleView/YOLO_v5x/yolov5/videoplayback.mp4: 640x384 1 person, 2 cars, Done. (0.128s)\n",
            "video 1/1 (149/292) /content/drive/My Drive/Interview/EagleView/YOLO_v5x/yolov5/videoplayback.mp4: 640x384 1 person, 2 cars, Done. (0.128s)\n",
            "video 1/1 (150/292) /content/drive/My Drive/Interview/EagleView/YOLO_v5x/yolov5/videoplayback.mp4: 640x384 2 cars, Done. (0.130s)\n",
            "video 1/1 (151/292) /content/drive/My Drive/Interview/EagleView/YOLO_v5x/yolov5/videoplayback.mp4: 640x384 2 cars, Done. (0.129s)\n",
            "video 1/1 (152/292) /content/drive/My Drive/Interview/EagleView/YOLO_v5x/yolov5/videoplayback.mp4: 640x384 2 cars, Done. (0.126s)\n",
            "video 1/1 (153/292) /content/drive/My Drive/Interview/EagleView/YOLO_v5x/yolov5/videoplayback.mp4: 640x384 1 person, 1 car, Done. (0.127s)\n",
            "video 1/1 (154/292) /content/drive/My Drive/Interview/EagleView/YOLO_v5x/yolov5/videoplayback.mp4: 640x384 1 car, Done. (0.128s)\n",
            "video 1/1 (155/292) /content/drive/My Drive/Interview/EagleView/YOLO_v5x/yolov5/videoplayback.mp4: 640x384 1 car, Done. (0.130s)\n",
            "video 1/1 (156/292) /content/drive/My Drive/Interview/EagleView/YOLO_v5x/yolov5/videoplayback.mp4: 640x384 1 car, Done. (0.130s)\n",
            "video 1/1 (157/292) /content/drive/My Drive/Interview/EagleView/YOLO_v5x/yolov5/videoplayback.mp4: 640x384 1 car, Done. (0.127s)\n",
            "video 1/1 (158/292) /content/drive/My Drive/Interview/EagleView/YOLO_v5x/yolov5/videoplayback.mp4: 640x384 2 cars, Done. (0.128s)\n",
            "video 1/1 (159/292) /content/drive/My Drive/Interview/EagleView/YOLO_v5x/yolov5/videoplayback.mp4: 640x384 2 cars, Done. (0.128s)\n",
            "video 1/1 (160/292) /content/drive/My Drive/Interview/EagleView/YOLO_v5x/yolov5/videoplayback.mp4: 640x384 2 cars, Done. (0.128s)\n",
            "video 1/1 (161/292) /content/drive/My Drive/Interview/EagleView/YOLO_v5x/yolov5/videoplayback.mp4: 640x384 2 persons, 2 cars, Done. (0.128s)\n",
            "video 1/1 (162/292) /content/drive/My Drive/Interview/EagleView/YOLO_v5x/yolov5/videoplayback.mp4: 640x384 1 person, 3 cars, Done. (0.127s)\n",
            "video 1/1 (163/292) /content/drive/My Drive/Interview/EagleView/YOLO_v5x/yolov5/videoplayback.mp4: 640x384 1 car, Done. (0.128s)\n",
            "video 1/1 (164/292) /content/drive/My Drive/Interview/EagleView/YOLO_v5x/yolov5/videoplayback.mp4: 640x384 1 car, Done. (0.127s)\n",
            "video 1/1 (165/292) /content/drive/My Drive/Interview/EagleView/YOLO_v5x/yolov5/videoplayback.mp4: 640x384 1 car, Done. (0.128s)\n",
            "video 1/1 (166/292) /content/drive/My Drive/Interview/EagleView/YOLO_v5x/yolov5/videoplayback.mp4: 640x384 1 car, Done. (0.130s)\n",
            "video 1/1 (167/292) /content/drive/My Drive/Interview/EagleView/YOLO_v5x/yolov5/videoplayback.mp4: 640x384 1 car, Done. (0.129s)\n",
            "video 1/1 (168/292) /content/drive/My Drive/Interview/EagleView/YOLO_v5x/yolov5/videoplayback.mp4: 640x384 1 car, Done. (0.128s)\n",
            "video 1/1 (169/292) /content/drive/My Drive/Interview/EagleView/YOLO_v5x/yolov5/videoplayback.mp4: 640x384 1 car, Done. (0.128s)\n",
            "video 1/1 (170/292) /content/drive/My Drive/Interview/EagleView/YOLO_v5x/yolov5/videoplayback.mp4: 640x384 1 car, Done. (0.127s)\n",
            "video 1/1 (171/292) /content/drive/My Drive/Interview/EagleView/YOLO_v5x/yolov5/videoplayback.mp4: 640x384 1 car, Done. (0.130s)\n",
            "video 1/1 (172/292) /content/drive/My Drive/Interview/EagleView/YOLO_v5x/yolov5/videoplayback.mp4: 640x384 1 car, Done. (0.130s)\n",
            "video 1/1 (173/292) /content/drive/My Drive/Interview/EagleView/YOLO_v5x/yolov5/videoplayback.mp4: 640x384 1 car, Done. (0.130s)\n",
            "video 1/1 (174/292) /content/drive/My Drive/Interview/EagleView/YOLO_v5x/yolov5/videoplayback.mp4: 640x384 1 car, Done. (0.130s)\n",
            "video 1/1 (175/292) /content/drive/My Drive/Interview/EagleView/YOLO_v5x/yolov5/videoplayback.mp4: 640x384 1 car, Done. (0.129s)\n",
            "video 1/1 (176/292) /content/drive/My Drive/Interview/EagleView/YOLO_v5x/yolov5/videoplayback.mp4: 640x384 1 car, Done. (0.128s)\n",
            "video 1/1 (177/292) /content/drive/My Drive/Interview/EagleView/YOLO_v5x/yolov5/videoplayback.mp4: 640x384 1 person, 1 car, Done. (0.129s)\n",
            "video 1/1 (178/292) /content/drive/My Drive/Interview/EagleView/YOLO_v5x/yolov5/videoplayback.mp4: 640x384 1 person, 1 car, Done. (0.130s)\n",
            "video 1/1 (179/292) /content/drive/My Drive/Interview/EagleView/YOLO_v5x/yolov5/videoplayback.mp4: 640x384 1 person, 1 car, Done. (0.129s)\n",
            "video 1/1 (180/292) /content/drive/My Drive/Interview/EagleView/YOLO_v5x/yolov5/videoplayback.mp4: 640x384 1 person, 1 car, Done. (0.129s)\n",
            "video 1/1 (181/292) /content/drive/My Drive/Interview/EagleView/YOLO_v5x/yolov5/videoplayback.mp4: 640x384 1 person, 1 car, Done. (0.126s)\n",
            "video 1/1 (182/292) /content/drive/My Drive/Interview/EagleView/YOLO_v5x/yolov5/videoplayback.mp4: 640x384 1 person, 1 car, Done. (0.127s)\n",
            "video 1/1 (183/292) /content/drive/My Drive/Interview/EagleView/YOLO_v5x/yolov5/videoplayback.mp4: 640x384 1 person, 1 car, Done. (0.128s)\n",
            "video 1/1 (184/292) /content/drive/My Drive/Interview/EagleView/YOLO_v5x/yolov5/videoplayback.mp4: 640x384 1 person, 1 car, Done. (0.126s)\n",
            "video 1/1 (185/292) /content/drive/My Drive/Interview/EagleView/YOLO_v5x/yolov5/videoplayback.mp4: 640x384 1 person, 1 car, Done. (0.129s)\n",
            "video 1/1 (186/292) /content/drive/My Drive/Interview/EagleView/YOLO_v5x/yolov5/videoplayback.mp4: 640x384 1 person, 1 car, Done. (0.129s)\n",
            "video 1/1 (187/292) /content/drive/My Drive/Interview/EagleView/YOLO_v5x/yolov5/videoplayback.mp4: 640x384 1 person, 1 car, Done. (0.128s)\n",
            "video 1/1 (188/292) /content/drive/My Drive/Interview/EagleView/YOLO_v5x/yolov5/videoplayback.mp4: 640x384 1 person, 1 car, Done. (0.128s)\n",
            "video 1/1 (189/292) /content/drive/My Drive/Interview/EagleView/YOLO_v5x/yolov5/videoplayback.mp4: 640x384 1 person, 1 car, Done. (0.128s)\n",
            "video 1/1 (190/292) /content/drive/My Drive/Interview/EagleView/YOLO_v5x/yolov5/videoplayback.mp4: 640x384 1 person, 1 car, Done. (0.129s)\n",
            "video 1/1 (191/292) /content/drive/My Drive/Interview/EagleView/YOLO_v5x/yolov5/videoplayback.mp4: 640x384 1 person, 1 car, Done. (0.129s)\n",
            "video 1/1 (192/292) /content/drive/My Drive/Interview/EagleView/YOLO_v5x/yolov5/videoplayback.mp4: 640x384 1 person, 1 car, Done. (0.127s)\n",
            "video 1/1 (193/292) /content/drive/My Drive/Interview/EagleView/YOLO_v5x/yolov5/videoplayback.mp4: 640x384 1 person, 1 car, Done. (0.127s)\n",
            "video 1/1 (194/292) /content/drive/My Drive/Interview/EagleView/YOLO_v5x/yolov5/videoplayback.mp4: 640x384 1 person, 1 car, Done. (0.128s)\n",
            "video 1/1 (195/292) /content/drive/My Drive/Interview/EagleView/YOLO_v5x/yolov5/videoplayback.mp4: 640x384 1 person, 1 car, Done. (0.131s)\n",
            "video 1/1 (196/292) /content/drive/My Drive/Interview/EagleView/YOLO_v5x/yolov5/videoplayback.mp4: 640x384 1 person, 1 car, Done. (0.130s)\n",
            "video 1/1 (197/292) /content/drive/My Drive/Interview/EagleView/YOLO_v5x/yolov5/videoplayback.mp4: 640x384 1 person, 1 car, Done. (0.128s)\n",
            "video 1/1 (198/292) /content/drive/My Drive/Interview/EagleView/YOLO_v5x/yolov5/videoplayback.mp4: 640x384 1 person, 1 car, Done. (0.128s)\n",
            "video 1/1 (199/292) /content/drive/My Drive/Interview/EagleView/YOLO_v5x/yolov5/videoplayback.mp4: 640x384 1 person, 1 car, Done. (0.128s)\n",
            "video 1/1 (200/292) /content/drive/My Drive/Interview/EagleView/YOLO_v5x/yolov5/videoplayback.mp4: 640x384 1 person, 1 car, Done. (0.128s)\n",
            "video 1/1 (201/292) /content/drive/My Drive/Interview/EagleView/YOLO_v5x/yolov5/videoplayback.mp4: 640x384 1 person, 1 car, Done. (0.130s)\n",
            "video 1/1 (202/292) /content/drive/My Drive/Interview/EagleView/YOLO_v5x/yolov5/videoplayback.mp4: 640x384 1 person, 1 car, Done. (0.128s)\n",
            "video 1/1 (203/292) /content/drive/My Drive/Interview/EagleView/YOLO_v5x/yolov5/videoplayback.mp4: 640x384 1 person, 2 cars, Done. (0.127s)\n",
            "video 1/1 (204/292) /content/drive/My Drive/Interview/EagleView/YOLO_v5x/yolov5/videoplayback.mp4: 640x384 1 person, 2 cars, Done. (0.128s)\n",
            "video 1/1 (205/292) /content/drive/My Drive/Interview/EagleView/YOLO_v5x/yolov5/videoplayback.mp4: 640x384 1 person, 2 cars, Done. (0.128s)\n",
            "video 1/1 (206/292) /content/drive/My Drive/Interview/EagleView/YOLO_v5x/yolov5/videoplayback.mp4: 640x384 1 person, 2 cars, Done. (0.130s)\n",
            "video 1/1 (207/292) /content/drive/My Drive/Interview/EagleView/YOLO_v5x/yolov5/videoplayback.mp4: 640x384 1 person, 2 cars, Done. (0.130s)\n",
            "video 1/1 (208/292) /content/drive/My Drive/Interview/EagleView/YOLO_v5x/yolov5/videoplayback.mp4: 640x384 1 person, 2 cars, Done. (0.128s)\n",
            "video 1/1 (209/292) /content/drive/My Drive/Interview/EagleView/YOLO_v5x/yolov5/videoplayback.mp4: 640x384 1 person, 2 cars, Done. (0.128s)\n",
            "video 1/1 (210/292) /content/drive/My Drive/Interview/EagleView/YOLO_v5x/yolov5/videoplayback.mp4: 640x384 1 person, 2 cars, Done. (0.127s)\n",
            "video 1/1 (211/292) /content/drive/My Drive/Interview/EagleView/YOLO_v5x/yolov5/videoplayback.mp4: 640x384 1 person, 2 cars, Done. (0.129s)\n",
            "video 1/1 (212/292) /content/drive/My Drive/Interview/EagleView/YOLO_v5x/yolov5/videoplayback.mp4: 640x384 1 person, 2 cars, Done. (0.130s)\n",
            "video 1/1 (213/292) /content/drive/My Drive/Interview/EagleView/YOLO_v5x/yolov5/videoplayback.mp4: 640x384 1 person, 2 cars, Done. (0.127s)\n",
            "video 1/1 (214/292) /content/drive/My Drive/Interview/EagleView/YOLO_v5x/yolov5/videoplayback.mp4: 640x384 1 person, 2 cars, Done. (0.128s)\n",
            "video 1/1 (215/292) /content/drive/My Drive/Interview/EagleView/YOLO_v5x/yolov5/videoplayback.mp4: 640x384 1 person, 2 cars, Done. (0.129s)\n",
            "video 1/1 (216/292) /content/drive/My Drive/Interview/EagleView/YOLO_v5x/yolov5/videoplayback.mp4: 640x384 1 person, 2 cars, Done. (0.128s)\n",
            "video 1/1 (217/292) /content/drive/My Drive/Interview/EagleView/YOLO_v5x/yolov5/videoplayback.mp4: 640x384 1 person, 2 cars, Done. (0.128s)\n",
            "video 1/1 (218/292) /content/drive/My Drive/Interview/EagleView/YOLO_v5x/yolov5/videoplayback.mp4: 640x384 1 person, 2 cars, Done. (0.128s)\n",
            "video 1/1 (219/292) /content/drive/My Drive/Interview/EagleView/YOLO_v5x/yolov5/videoplayback.mp4: 640x384 1 person, 2 cars, Done. (0.130s)\n",
            "video 1/1 (220/292) /content/drive/My Drive/Interview/EagleView/YOLO_v5x/yolov5/videoplayback.mp4: 640x384 1 person, 2 cars, Done. (0.129s)\n",
            "video 1/1 (221/292) /content/drive/My Drive/Interview/EagleView/YOLO_v5x/yolov5/videoplayback.mp4: 640x384 1 person, 1 car, Done. (0.127s)\n",
            "video 1/1 (222/292) /content/drive/My Drive/Interview/EagleView/YOLO_v5x/yolov5/videoplayback.mp4: 640x384 1 person, 1 car, Done. (0.127s)\n",
            "video 1/1 (223/292) /content/drive/My Drive/Interview/EagleView/YOLO_v5x/yolov5/videoplayback.mp4: 640x384 1 person, 2 cars, Done. (0.128s)\n",
            "video 1/1 (224/292) /content/drive/My Drive/Interview/EagleView/YOLO_v5x/yolov5/videoplayback.mp4: 640x384 1 person, 2 cars, Done. (0.130s)\n",
            "video 1/1 (225/292) /content/drive/My Drive/Interview/EagleView/YOLO_v5x/yolov5/videoplayback.mp4: 640x384 1 person, 2 cars, Done. (0.130s)\n",
            "video 1/1 (226/292) /content/drive/My Drive/Interview/EagleView/YOLO_v5x/yolov5/videoplayback.mp4: 640x384 1 person, 2 cars, Done. (0.129s)\n",
            "video 1/1 (227/292) /content/drive/My Drive/Interview/EagleView/YOLO_v5x/yolov5/videoplayback.mp4: 640x384 1 person, 2 cars, Done. (0.128s)\n",
            "video 1/1 (228/292) /content/drive/My Drive/Interview/EagleView/YOLO_v5x/yolov5/videoplayback.mp4: 640x384 1 person, 2 cars, Done. (0.128s)\n",
            "video 1/1 (229/292) /content/drive/My Drive/Interview/EagleView/YOLO_v5x/yolov5/videoplayback.mp4: 640x384 1 person, 2 cars, Done. (0.130s)\n",
            "video 1/1 (230/292) /content/drive/My Drive/Interview/EagleView/YOLO_v5x/yolov5/videoplayback.mp4: 640x384 1 person, 2 cars, Done. (0.130s)\n",
            "video 1/1 (231/292) /content/drive/My Drive/Interview/EagleView/YOLO_v5x/yolov5/videoplayback.mp4: 640x384 1 person, 2 cars, Done. (0.127s)\n",
            "video 1/1 (232/292) /content/drive/My Drive/Interview/EagleView/YOLO_v5x/yolov5/videoplayback.mp4: 640x384 1 person, 2 cars, Done. (0.129s)\n",
            "video 1/1 (233/292) /content/drive/My Drive/Interview/EagleView/YOLO_v5x/yolov5/videoplayback.mp4: 640x384 1 person, 2 cars, Done. (0.129s)\n",
            "video 1/1 (234/292) /content/drive/My Drive/Interview/EagleView/YOLO_v5x/yolov5/videoplayback.mp4: 640x384 1 person, 1 car, Done. (0.131s)\n",
            "video 1/1 (235/292) /content/drive/My Drive/Interview/EagleView/YOLO_v5x/yolov5/videoplayback.mp4: 640x384 1 person, 1 car, Done. (0.128s)\n",
            "video 1/1 (236/292) /content/drive/My Drive/Interview/EagleView/YOLO_v5x/yolov5/videoplayback.mp4: 640x384 1 person, 1 car, Done. (0.128s)\n",
            "video 1/1 (237/292) /content/drive/My Drive/Interview/EagleView/YOLO_v5x/yolov5/videoplayback.mp4: 640x384 1 person, 2 cars, Done. (0.128s)\n",
            "video 1/1 (238/292) /content/drive/My Drive/Interview/EagleView/YOLO_v5x/yolov5/videoplayback.mp4: 640x384 1 person, 2 cars, Done. (0.129s)\n",
            "video 1/1 (239/292) /content/drive/My Drive/Interview/EagleView/YOLO_v5x/yolov5/videoplayback.mp4: 640x384 1 person, 2 cars, Done. (0.129s)\n",
            "video 1/1 (240/292) /content/drive/My Drive/Interview/EagleView/YOLO_v5x/yolov5/videoplayback.mp4: 640x384 1 person, 2 cars, Done. (0.130s)\n",
            "video 1/1 (241/292) /content/drive/My Drive/Interview/EagleView/YOLO_v5x/yolov5/videoplayback.mp4: 640x384 1 person, 2 cars, Done. (0.128s)\n",
            "video 1/1 (242/292) /content/drive/My Drive/Interview/EagleView/YOLO_v5x/yolov5/videoplayback.mp4: 640x384 1 person, 1 car, Done. (0.130s)\n",
            "video 1/1 (243/292) /content/drive/My Drive/Interview/EagleView/YOLO_v5x/yolov5/videoplayback.mp4: 640x384 1 person, 1 car, Done. (0.129s)\n",
            "video 1/1 (244/292) /content/drive/My Drive/Interview/EagleView/YOLO_v5x/yolov5/videoplayback.mp4: 640x384 1 person, 1 car, Done. (0.128s)\n",
            "video 1/1 (245/292) /content/drive/My Drive/Interview/EagleView/YOLO_v5x/yolov5/videoplayback.mp4: 640x384 1 person, 1 car, Done. (0.129s)\n",
            "video 1/1 (246/292) /content/drive/My Drive/Interview/EagleView/YOLO_v5x/yolov5/videoplayback.mp4: 640x384 1 person, 1 car, Done. (0.130s)\n",
            "video 1/1 (247/292) /content/drive/My Drive/Interview/EagleView/YOLO_v5x/yolov5/videoplayback.mp4: 640x384 1 person, 1 car, Done. (0.130s)\n",
            "video 1/1 (248/292) /content/drive/My Drive/Interview/EagleView/YOLO_v5x/yolov5/videoplayback.mp4: 640x384 1 person, 1 car, Done. (0.130s)\n",
            "video 1/1 (249/292) /content/drive/My Drive/Interview/EagleView/YOLO_v5x/yolov5/videoplayback.mp4: 640x384 1 person, 1 car, Done. (0.128s)\n",
            "video 1/1 (250/292) /content/drive/My Drive/Interview/EagleView/YOLO_v5x/yolov5/videoplayback.mp4: 640x384 1 person, 1 car, Done. (0.128s)\n",
            "video 1/1 (251/292) /content/drive/My Drive/Interview/EagleView/YOLO_v5x/yolov5/videoplayback.mp4: 640x384 1 person, 1 car, Done. (0.130s)\n",
            "video 1/1 (252/292) /content/drive/My Drive/Interview/EagleView/YOLO_v5x/yolov5/videoplayback.mp4: 640x384 1 person, 1 car, Done. (0.130s)\n",
            "video 1/1 (253/292) /content/drive/My Drive/Interview/EagleView/YOLO_v5x/yolov5/videoplayback.mp4: 640x384 1 person, 1 car, Done. (0.130s)\n",
            "video 1/1 (254/292) /content/drive/My Drive/Interview/EagleView/YOLO_v5x/yolov5/videoplayback.mp4: 640x384 1 person, 1 car, Done. (0.130s)\n",
            "video 1/1 (255/292) /content/drive/My Drive/Interview/EagleView/YOLO_v5x/yolov5/videoplayback.mp4: 640x384 1 person, 1 car, Done. (0.130s)\n",
            "video 1/1 (256/292) /content/drive/My Drive/Interview/EagleView/YOLO_v5x/yolov5/videoplayback.mp4: 640x384 1 person, 1 car, Done. (0.130s)\n",
            "video 1/1 (257/292) /content/drive/My Drive/Interview/EagleView/YOLO_v5x/yolov5/videoplayback.mp4: 640x384 1 person, 1 car, Done. (0.131s)\n",
            "video 1/1 (258/292) /content/drive/My Drive/Interview/EagleView/YOLO_v5x/yolov5/videoplayback.mp4: 640x384 1 person, 1 car, Done. (0.128s)\n",
            "video 1/1 (259/292) /content/drive/My Drive/Interview/EagleView/YOLO_v5x/yolov5/videoplayback.mp4: 640x384 1 person, 1 car, Done. (0.128s)\n",
            "video 1/1 (260/292) /content/drive/My Drive/Interview/EagleView/YOLO_v5x/yolov5/videoplayback.mp4: 640x384 1 person, 1 car, Done. (0.128s)\n",
            "video 1/1 (261/292) /content/drive/My Drive/Interview/EagleView/YOLO_v5x/yolov5/videoplayback.mp4: 640x384 1 person, 1 car, Done. (0.130s)\n",
            "video 1/1 (262/292) /content/drive/My Drive/Interview/EagleView/YOLO_v5x/yolov5/videoplayback.mp4: 640x384 1 person, 1 car, Done. (0.130s)\n",
            "video 1/1 (263/292) /content/drive/My Drive/Interview/EagleView/YOLO_v5x/yolov5/videoplayback.mp4: 640x384 1 person, 1 car, Done. (0.127s)\n",
            "video 1/1 (264/292) /content/drive/My Drive/Interview/EagleView/YOLO_v5x/yolov5/videoplayback.mp4: 640x384 1 person, 1 car, Done. (0.128s)\n",
            "video 1/1 (265/292) /content/drive/My Drive/Interview/EagleView/YOLO_v5x/yolov5/videoplayback.mp4: 640x384 2 persons, 1 car, Done. (0.128s)\n",
            "video 1/1 (266/292) /content/drive/My Drive/Interview/EagleView/YOLO_v5x/yolov5/videoplayback.mp4: 640x384 1 person, 1 car, Done. (0.130s)\n",
            "video 1/1 (267/292) /content/drive/My Drive/Interview/EagleView/YOLO_v5x/yolov5/videoplayback.mp4: 640x384 2 persons, 1 car, Done. (0.129s)\n",
            "video 1/1 (268/292) /content/drive/My Drive/Interview/EagleView/YOLO_v5x/yolov5/videoplayback.mp4: 640x384 1 person, 1 car, Done. (0.131s)\n",
            "video 1/1 (269/292) /content/drive/My Drive/Interview/EagleView/YOLO_v5x/yolov5/videoplayback.mp4: 640x384 1 person, 1 car, Done. (0.130s)\n",
            "video 1/1 (270/292) /content/drive/My Drive/Interview/EagleView/YOLO_v5x/yolov5/videoplayback.mp4: 640x384 1 person, 1 car, Done. (0.128s)\n",
            "video 1/1 (271/292) /content/drive/My Drive/Interview/EagleView/YOLO_v5x/yolov5/videoplayback.mp4: 640x384 1 person, 1 car, Done. (0.130s)\n",
            "video 1/1 (272/292) /content/drive/My Drive/Interview/EagleView/YOLO_v5x/yolov5/videoplayback.mp4: 640x384 1 person, 1 car, Done. (0.131s)\n",
            "video 1/1 (273/292) /content/drive/My Drive/Interview/EagleView/YOLO_v5x/yolov5/videoplayback.mp4: 640x384 1 person, 1 car, Done. (0.130s)\n",
            "video 1/1 (274/292) /content/drive/My Drive/Interview/EagleView/YOLO_v5x/yolov5/videoplayback.mp4: 640x384 1 person, 1 car, Done. (0.130s)\n",
            "video 1/1 (275/292) /content/drive/My Drive/Interview/EagleView/YOLO_v5x/yolov5/videoplayback.mp4: 640x384 1 person, 1 car, Done. (0.130s)\n",
            "video 1/1 (276/292) /content/drive/My Drive/Interview/EagleView/YOLO_v5x/yolov5/videoplayback.mp4: 640x384 1 person, 1 car, Done. (0.130s)\n",
            "video 1/1 (277/292) /content/drive/My Drive/Interview/EagleView/YOLO_v5x/yolov5/videoplayback.mp4: 640x384 1 person, 1 car, Done. (0.130s)\n",
            "video 1/1 (278/292) /content/drive/My Drive/Interview/EagleView/YOLO_v5x/yolov5/videoplayback.mp4: 640x384 1 person, 1 car, Done. (0.127s)\n",
            "video 1/1 (279/292) /content/drive/My Drive/Interview/EagleView/YOLO_v5x/yolov5/videoplayback.mp4: 640x384 1 person, 1 car, Done. (0.129s)\n",
            "video 1/1 (280/292) /content/drive/My Drive/Interview/EagleView/YOLO_v5x/yolov5/videoplayback.mp4: 640x384 1 person, 1 car, Done. (0.129s)\n",
            "video 1/1 (281/292) /content/drive/My Drive/Interview/EagleView/YOLO_v5x/yolov5/videoplayback.mp4: 640x384 1 person, 1 car, Done. (0.128s)\n",
            "video 1/1 (282/292) /content/drive/My Drive/Interview/EagleView/YOLO_v5x/yolov5/videoplayback.mp4: 640x384 1 person, 1 car, Done. (0.129s)\n",
            "video 1/1 (283/292) /content/drive/My Drive/Interview/EagleView/YOLO_v5x/yolov5/videoplayback.mp4: 640x384 1 person, 1 car, Done. (0.128s)\n",
            "video 1/1 (284/292) /content/drive/My Drive/Interview/EagleView/YOLO_v5x/yolov5/videoplayback.mp4: 640x384 1 person, 1 car, Done. (0.130s)\n",
            "video 1/1 (285/292) /content/drive/My Drive/Interview/EagleView/YOLO_v5x/yolov5/videoplayback.mp4: 640x384 1 person, 1 car, Done. (0.130s)\n",
            "video 1/1 (286/292) /content/drive/My Drive/Interview/EagleView/YOLO_v5x/yolov5/videoplayback.mp4: 640x384 1 person, 1 car, Done. (0.130s)\n",
            "video 1/1 (287/292) /content/drive/My Drive/Interview/EagleView/YOLO_v5x/yolov5/videoplayback.mp4: 640x384 1 person, 1 car, Done. (0.128s)\n",
            "video 1/1 (288/292) /content/drive/My Drive/Interview/EagleView/YOLO_v5x/yolov5/videoplayback.mp4: 640x384 1 person, 1 car, Done. (0.128s)\n",
            "video 1/1 (289/292) /content/drive/My Drive/Interview/EagleView/YOLO_v5x/yolov5/videoplayback.mp4: 640x384 1 person, 1 car, Done. (0.130s)\n",
            "video 1/1 (290/292) /content/drive/My Drive/Interview/EagleView/YOLO_v5x/yolov5/videoplayback.mp4: 640x384 1 person, 1 car, Done. (0.130s)\n",
            "video 1/1 (291/292) /content/drive/My Drive/Interview/EagleView/YOLO_v5x/yolov5/videoplayback.mp4: 640x384 1 person, 1 car, Done. (0.130s)\n",
            "video 1/1 (292/292) /content/drive/My Drive/Interview/EagleView/YOLO_v5x/yolov5/videoplayback.mp4: 640x384 1 person, 1 car, Done. (0.129s)\n",
            "Speed: 0.5ms pre-process, 128.4ms inference, 1.7ms NMS per image at shape (1, 3, 640, 640)\n",
            "Results saved to \u001b[1mruns/detect/exp5\u001b[0m\n"
          ]
        }
      ]
    },
    {
      "cell_type": "code",
      "metadata": {
        "id": "VvrFXbP673Le"
      },
      "source": [
        ""
      ],
      "execution_count": null,
      "outputs": []
    }
  ]
}